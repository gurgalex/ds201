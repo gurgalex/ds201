{
 "cells": [
  {
   "cell_type": "code",
   "execution_count": 4,
   "metadata": {
    "collapsed": true
   },
   "outputs": [],
   "source": [
    "from typing import Tuple"
   ]
  },
  {
   "cell_type": "code",
   "execution_count": 3,
   "metadata": {},
   "outputs": [],
   "source": [
    "def letter_grade(final_point: float) -> str:\n",
    "    '''Takes a score, and outputs the student's grade'''\n",
    "    grade_chart: Tuple[float, str] = (\n",
    "        (92.5, \"A\"),\n",
    "        (82.5, \"B\"),\n",
    "        (72.5, \"C\"),\n",
    "        (62.5, \"D\"),\n",
    "        )\n",
    "\n",
    "    for (cutoff, letter) in grade_chart:\n",
    "        if final_point < cutoff:\n",
    "            continue\n",
    "        else:\n",
    "            grade: str = letter\n",
    "            break  \n",
    "    else:\n",
    "        return \"F, sorry you fail\" \n",
    "    return grade"
   ]
  },
  {
   "cell_type": "code",
   "execution_count": 2,
   "metadata": {},
   "outputs": [
    {
     "name": "stdout",
     "output_type": "stream",
     "text": [
      "What is your final score? 70\n",
      "Your points: 70.0 Your letter grade: D\n",
      "Do you have more student's Final points? y\n",
      "What is your final score? 50\n",
      "Your points: 50.0 Your letter grade: F, sorry you fail\n",
      "Do you have more student's Final points? d\n",
      "Grade report Complete\n"
     ]
    }
   ],
   "source": [
    "while True:\n",
    "    score: float = float(input(\"What is your final score? \"))\n",
    "    print(\"Your points: {} Your letter grade: {}\"\n",
    "          .format(score, letter_grade(score)))\n",
    "    \n",
    "    user_continue: Tuple[str] = (\n",
    "        \"yes\",\n",
    "        \"y\",\n",
    "        \"I do\"\n",
    "    )\n",
    "    user_input: str = input(\"Do you have more student's Final points? \")\n",
    "    if user_input not in (x.lower() for x in user_continue):\n",
    "        break\n",
    "    \n",
    "print(\"Grade report Complete\")"
   ]
  }
 ],
 "metadata": {
  "kernelspec": {
   "display_name": "Python 3",
   "language": "python",
   "name": "python3"
  },
  "language_info": {
   "codemirror_mode": {
    "name": "ipython",
    "version": 3
   },
   "file_extension": ".py",
   "mimetype": "text/x-python",
   "name": "python",
   "nbconvert_exporter": "python",
   "pygments_lexer": "ipython3",
   "version": "3.6.1"
  }
 },
 "nbformat": 4,
 "nbformat_minor": 2
}
